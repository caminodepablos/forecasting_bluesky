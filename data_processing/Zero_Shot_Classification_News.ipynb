{
 "cells": [
  {
   "cell_type": "markdown",
   "id": "c6c04eea-19be-49c6-889c-1096db91f92f",
   "metadata": {},
   "source": [
    "# Zero-Shot-Classification\n",
    "Vamos a utilizar un modelo de Zero-Shot para reclasificar todas las noticias del dataset con el objetivo de obtener una clasificación mejor distribuida."
   ]
  },
  {
   "cell_type": "code",
   "execution_count": 2,
   "id": "2f9830e3-a374-451f-86fd-49bfa335a271",
   "metadata": {},
   "outputs": [
    {
     "name": "stderr",
     "output_type": "stream",
     "text": [
      "2025-04-15 15:22:16.178250: I tensorflow/core/platform/cpu_feature_guard.cc:210] This TensorFlow binary is optimized to use available CPU instructions in performance-critical operations.\n",
      "To enable the following instructions: AVX2 FMA, in other operations, rebuild TensorFlow with the appropriate compiler flags.\n"
     ]
    }
   ],
   "source": [
    "import pandas as pd\n",
    "import numpy as np\n",
    "import matplotlib.pyplot as plt\n",
    "\n",
    "from transformers import pipeline\n",
    "\n",
    "from forecasting_bluesky_code import preprocessing as pre\n",
    "from forecasting_bluesky_code import eda_plots as ep\n"
   ]
  },
  {
   "cell_type": "markdown",
   "id": "00fedca7-5484-4806-822b-550261afabaf",
   "metadata": {},
   "source": [
    "### Dataset\n",
    "Reaprovechamos el dataset de noticias por día para reclasificar todas las noticias en una nueva columna de subject."
   ]
  },
  {
   "cell_type": "code",
   "execution_count": 3,
   "id": "bfc9c4cd-4277-4260-8c14-0fcdeba44f39",
   "metadata": {},
   "outputs": [],
   "source": [
    "df = pd.read_csv('news_data_by_subject.csv')"
   ]
  },
  {
   "cell_type": "code",
   "execution_count": 4,
   "id": "0a21a91f-be41-4eb6-89ca-77e457d48f9d",
   "metadata": {},
   "outputs": [
    {
     "name": "stdout",
     "output_type": "stream",
     "text": [
      "<class 'pandas.core.frame.DataFrame'>\n",
      "RangeIndex: 1814 entries, 0 to 1813\n",
      "Data columns (total 6 columns):\n",
      " #   Column    Non-Null Count  Dtype         \n",
      "---  ------    --------------  -----         \n",
      " 0   date      1814 non-null   datetime64[ns]\n",
      " 1   year      1814 non-null   int64         \n",
      " 2   month     1814 non-null   int64         \n",
      " 3   day       1814 non-null   int64         \n",
      " 4   headline  1814 non-null   object        \n",
      " 5   subject   1814 non-null   object        \n",
      "dtypes: datetime64[ns](1), int64(3), object(2)\n",
      "memory usage: 85.2+ KB\n",
      "None\n"
     ]
    }
   ],
   "source": [
    "df = pre.preprocessing_news_df(df)"
   ]
  },
  {
   "cell_type": "code",
   "execution_count": 5,
   "id": "ce12ec22-02a6-43eb-b9ad-4305b2a5d105",
   "metadata": {},
   "outputs": [],
   "source": [
    "df = df.drop(columns = ['year','month','day','subject'])"
   ]
  },
  {
   "cell_type": "code",
   "execution_count": 6,
   "id": "ee7c8ffb-487e-4e77-a60e-306bcfa5cf0f",
   "metadata": {},
   "outputs": [],
   "source": [
    "df = df.set_index('date')"
   ]
  },
  {
   "cell_type": "code",
   "execution_count": 7,
   "id": "ba41665b-f782-422c-ba38-f0effcd4c9fa",
   "metadata": {},
   "outputs": [],
   "source": [
    "df['headline'] = df['headline'].apply(pre.text_cleaning)"
   ]
  },
  {
   "cell_type": "code",
   "execution_count": 8,
   "id": "c42db241-c1d2-482a-8830-143d4a423f8c",
   "metadata": {},
   "outputs": [
    {
     "data": {
      "text/html": [
       "<div>\n",
       "<style scoped>\n",
       "    .dataframe tbody tr th:only-of-type {\n",
       "        vertical-align: middle;\n",
       "    }\n",
       "\n",
       "    .dataframe tbody tr th {\n",
       "        vertical-align: top;\n",
       "    }\n",
       "\n",
       "    .dataframe thead th {\n",
       "        text-align: right;\n",
       "    }\n",
       "</style>\n",
       "<table border=\"1\" class=\"dataframe\">\n",
       "  <thead>\n",
       "    <tr style=\"text-align: right;\">\n",
       "      <th></th>\n",
       "      <th>headline</th>\n",
       "    </tr>\n",
       "    <tr>\n",
       "      <th>date</th>\n",
       "      <th></th>\n",
       "    </tr>\n",
       "  </thead>\n",
       "  <tbody>\n",
       "    <tr>\n",
       "      <th>2023-05-08</th>\n",
       "      <td>the tradition golf international winner steve ...</td>\n",
       "    </tr>\n",
       "    <tr>\n",
       "      <th>2023-05-09</th>\n",
       "      <td>cyclone mocha forms in the indian ocean killin...</td>\n",
       "    </tr>\n",
       "    <tr>\n",
       "      <th>2023-05-10</th>\n",
       "      <td>italian open tennis international winner men d...</td>\n",
       "    </tr>\n",
       "    <tr>\n",
       "      <th>2023-05-10</th>\n",
       "      <td>karnataka legislative assembly election</td>\n",
       "    </tr>\n",
       "    <tr>\n",
       "      <th>2023-05-11</th>\n",
       "      <td>the discovery of new moons of saturn is report...</td>\n",
       "    </tr>\n",
       "    <tr>\n",
       "      <th>...</th>\n",
       "      <td>...</td>\n",
       "    </tr>\n",
       "    <tr>\n",
       "      <th>2025-04-06</th>\n",
       "      <td>montecarlo masters tennis international winner...</td>\n",
       "    </tr>\n",
       "    <tr>\n",
       "      <th>2025-04-06</th>\n",
       "      <td>japanese grand prix f formula racing internati...</td>\n",
       "    </tr>\n",
       "    <tr>\n",
       "      <th>2025-04-06</th>\n",
       "      <td>in ice hockey washington capitals star alexand...</td>\n",
       "    </tr>\n",
       "    <tr>\n",
       "      <th>2025-04-07</th>\n",
       "      <td>colossal biosciences announces romulus remus a...</td>\n",
       "    </tr>\n",
       "    <tr>\n",
       "      <th>2025-04-07</th>\n",
       "      <td>colossal biosciences showcases the first dire ...</td>\n",
       "    </tr>\n",
       "  </tbody>\n",
       "</table>\n",
       "<p>1814 rows × 1 columns</p>\n",
       "</div>"
      ],
      "text/plain": [
       "                                                     headline\n",
       "date                                                         \n",
       "2023-05-08  the tradition golf international winner steve ...\n",
       "2023-05-09  cyclone mocha forms in the indian ocean killin...\n",
       "2023-05-10  italian open tennis international winner men d...\n",
       "2023-05-10            karnataka legislative assembly election\n",
       "2023-05-11  the discovery of new moons of saturn is report...\n",
       "...                                                       ...\n",
       "2025-04-06  montecarlo masters tennis international winner...\n",
       "2025-04-06  japanese grand prix f formula racing internati...\n",
       "2025-04-06  in ice hockey washington capitals star alexand...\n",
       "2025-04-07  colossal biosciences announces romulus remus a...\n",
       "2025-04-07  colossal biosciences showcases the first dire ...\n",
       "\n",
       "[1814 rows x 1 columns]"
      ]
     },
     "execution_count": 8,
     "metadata": {},
     "output_type": "execute_result"
    }
   ],
   "source": [
    "df"
   ]
  },
  {
   "cell_type": "markdown",
   "id": "cea8e346-5bf7-4c25-83f4-f6140c6abed5",
   "metadata": {},
   "source": [
    "### Zero-Shot-Classification\n",
    "Aplicamos la función de Zero-Shot pero lo hacemos por batches para controlar mejor el uso de CPU."
   ]
  },
  {
   "cell_type": "code",
   "execution_count": 9,
   "id": "1d15002e-0145-40c9-b6d1-930b560100ad",
   "metadata": {},
   "outputs": [
    {
     "name": "stdout",
     "output_type": "stream",
     "text": [
      "Total batches: 60.46666666666667\n"
     ]
    }
   ],
   "source": [
    "batch = 30\n",
    "print(f'Total batches: {len(df['headline']) / batch}')"
   ]
  },
  {
   "cell_type": "code",
   "execution_count": 19,
   "id": "698abed9-59d8-4434-8f92-02bc12646f67",
   "metadata": {},
   "outputs": [
    {
     "name": "stderr",
     "output_type": "stream",
     "text": [
      "Device set to use cpu\n"
     ]
    },
    {
     "name": "stdout",
     "output_type": "stream",
     "text": [
      "Processing batch 0–30...\n",
      "Processing batch 30–60...\n",
      "Processing batch 60–90...\n",
      "Processing batch 90–120...\n",
      "Processing batch 120–150...\n",
      "Processing batch 150–180...\n",
      "Processing batch 180–210...\n",
      "Processing batch 210–240...\n",
      "Processing batch 240–270...\n",
      "Processing batch 270–300...\n",
      "Processing batch 300–330...\n",
      "Processing batch 330–360...\n",
      "Processing batch 360–390...\n",
      "Processing batch 390–420...\n",
      "Processing batch 420–450...\n",
      "Processing batch 450–480...\n",
      "Processing batch 480–510...\n",
      "Processing batch 510–540...\n",
      "Processing batch 540–570...\n",
      "Processing batch 570–600...\n",
      "Processing batch 600–630...\n",
      "Processing batch 630–660...\n",
      "Processing batch 660–690...\n",
      "Processing batch 690–720...\n",
      "Processing batch 720–750...\n",
      "Processing batch 750–780...\n",
      "Processing batch 780–810...\n",
      "Processing batch 810–840...\n",
      "Processing batch 840–870...\n",
      "Processing batch 870–900...\n",
      "Processing batch 900–930...\n",
      "Processing batch 930–960...\n",
      "Processing batch 960–990...\n",
      "Processing batch 990–1020...\n",
      "Processing batch 1020–1050...\n",
      "Processing batch 1050–1080...\n",
      "Processing batch 1080–1110...\n",
      "Processing batch 1110–1140...\n",
      "Processing batch 1140–1170...\n",
      "Processing batch 1170–1200...\n",
      "Processing batch 1200–1230...\n",
      "Processing batch 1230–1260...\n",
      "Processing batch 1260–1290...\n",
      "Processing batch 1290–1320...\n",
      "Processing batch 1320–1350...\n",
      "Processing batch 1350–1380...\n",
      "Processing batch 1380–1410...\n",
      "Processing batch 1410–1440...\n",
      "Processing batch 1440–1470...\n",
      "Processing batch 1470–1500...\n",
      "Processing batch 1500–1530...\n",
      "Processing batch 1530–1560...\n",
      "Processing batch 1560–1590...\n",
      "Processing batch 1590–1620...\n",
      "Processing batch 1620–1650...\n",
      "Processing batch 1650–1680...\n",
      "Processing batch 1680–1710...\n",
      "Processing batch 1710–1740...\n",
      "Processing batch 1740–1770...\n",
      "Processing batch 1770–1800...\n",
      "Processing batch 1800–1814...\n"
     ]
    }
   ],
   "source": [
    "df_classified = isc.zero_shot_classification_batched(df, 'headline', batch_size=batch)"
   ]
  },
  {
   "cell_type": "code",
   "execution_count": 66,
   "id": "95edb6ea-dfae-4f2c-812f-5f6c0c06f3f2",
   "metadata": {},
   "outputs": [],
   "source": [
    "df_classified.to_csv('news_data_classified_by_subject.csv')"
   ]
  },
  {
   "cell_type": "code",
   "execution_count": 48,
   "id": "d98ec38c-6027-486f-a2ee-021bd406e0e9",
   "metadata": {},
   "outputs": [
    {
     "data": {
      "text/plain": [
       "subject\n",
       "sports                     468\n",
       "elections                  358\n",
       "politics                   165\n",
       "crime                      148\n",
       "technology                 148\n",
       "science                    126\n",
       "environment                105\n",
       "international relations     58\n",
       "war                         46\n",
       "videogames                  45\n",
       "protests                    42\n",
       "entertainment               32\n",
       "health                      28\n",
       "artificial intelligence     15\n",
       "finance                     13\n",
       "immigration                 10\n",
       "pandemics                    5\n",
       "education                    2\n",
       "Name: count, dtype: int64"
      ]
     },
     "execution_count": 48,
     "metadata": {},
     "output_type": "execute_result"
    }
   ],
   "source": [
    "df_classified['subject'].value_counts()"
   ]
  },
  {
   "cell_type": "code",
   "execution_count": 52,
   "id": "4c950814-ef95-4cba-a1da-c35b33383e69",
   "metadata": {},
   "outputs": [],
   "source": [
    "# Pivot the dataset so that each subject becomes a column with its associated headline(s)\n",
    "\n",
    "# Group by 'date' and 'subject', concatenate headlines per subject per day\n",
    "grouped = df_classified.groupby(['date', 'subject'])['headline'].apply(lambda x: ' '.join(x))\n",
    "\n",
    "# Unstack 'subject' so that each subject becomes a column\n",
    "df_news_daily = grouped.unstack(level='subject', fill_value='')\n",
    "\n",
    "# Reset the index, but drop the current index and turn 'date' into a column\n",
    "df_news_daily = df_news_daily.reset_index(drop=False)"
   ]
  },
  {
   "cell_type": "code",
   "execution_count": 61,
   "id": "f4bc9b53-383d-48eb-904e-f5efd641b5e0",
   "metadata": {},
   "outputs": [],
   "source": [
    "df_news_daily.to_csv('news_data_classified_by_day.csv', index = False)"
   ]
  }
 ],
 "metadata": {
  "kernelspec": {
   "display_name": "Python [conda env:base] *",
   "language": "python",
   "name": "conda-base-py"
  },
  "language_info": {
   "codemirror_mode": {
    "name": "ipython",
    "version": 3
   },
   "file_extension": ".py",
   "mimetype": "text/x-python",
   "name": "python",
   "nbconvert_exporter": "python",
   "pygments_lexer": "ipython3",
   "version": "3.12.7"
  }
 },
 "nbformat": 4,
 "nbformat_minor": 5
}
