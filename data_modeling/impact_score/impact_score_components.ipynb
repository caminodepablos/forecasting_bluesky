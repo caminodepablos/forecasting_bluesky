{
 "cells": [
  {
   "cell_type": "markdown",
   "id": "61777cf8-c048-4f07-89fc-5765a5db03a2",
   "metadata": {},
   "source": [
    "# Impact Score\n",
    "\n",
    "**COMPONENTES**:\n",
    "\n",
    "**Sentiment Score**\n",
    "\n",
    "*SentimentScoreExtractor(exclude_columns=None)*\n",
    "- Análisis de sentimiento de las noticias con DISTILBERT.\n",
    "- Devuelve un score de sentimiento por cada columna de texto que encuentra en el dataframe.\n",
    "- El score va de -1 (negativo) a 1 (positivo).\n",
    "\n",
    "**Category Impact**\n",
    "\n",
    "*CategoryImpactExtractor(exclude_columns=None)*\n",
    "- Impacto de cada temática en el histórico de los datos (ej.: noticias políticas - impacto alto, noticias deportivas - impacto bajo).\n",
    "- Otorga un score ya fijado a una categoría.\n",
    "- El score se ha obtenido previamente a través de una regresión lineal sobre el dataset original.\n",
    "- El score va de -1 (muy poco impacto) a 1 (impacto elevado).\n",
    "\n",
    "**NER Impact**\n",
    "\n",
    "*NERScoreExtractor(exclude_columns=None, use_whitelist=True)*\n",
    "- NER: Named Entity Recognition con la librería SpaCy.\n",
    "- Si encuentra un nombre de entidad o persona en el texto, le otorga un score en función a su frecuencia de aparición y a su label.\n",
    "- El peso de las label se obtiene a través de una regresión lineal sobre el dataset original.\n",
    "- El score va de -1 (muy poco impacto) a 1 (impacto elevado).\n",
    "\n",
    "**Novelty Score**\n",
    "\n",
    "*NoveltyScoreExtractor(\n",
    "    exclude_columns=None,\n",
    "    window_size=30,\n",
    "    max_features=1000,\n",
    "    ngram_range=(1, 2),\n",
    "    max_df=0.97,\n",
    "    norm='l2',\n",
    ")*\n",
    "- Cuán diferente es una noticia comparada con los últimos días.\n",
    "- Se utiliza la matriz tf-idf y el cosine-similarity\n",
    "- Devuelve un score de -1 (no novedoso) a 1 (muy novedoso).\n"
   ]
  },
  {
   "cell_type": "code",
   "execution_count": 257,
   "id": "c649589c-ad2f-4fe5-a24c-526674ff8fc9",
   "metadata": {},
   "outputs": [],
   "source": [
    "import pandas as pd\n",
    "import numpy as np\n",
    "import matplotlib.pyplot as plt\n",
    "import seaborn as sns\n",
    "\n",
    "from forecasting_bluesky_code import preprocessing as pre\n",
    "from forecasting_bluesky_code import all_csv_directories as csv\n",
    "from forecasting_bluesky_code import eda_plots as ep"
   ]
  },
  {
   "cell_type": "code",
   "execution_count": 259,
   "id": "3f2a35ac-7018-4911-91d5-f15cfa6a7424",
   "metadata": {},
   "outputs": [],
   "source": [
    "# Definición de paleta para los plots\n",
    "sns.set_theme()\n",
    "sns.set_palette('husl')"
   ]
  },
  {
   "cell_type": "code",
   "execution_count": 261,
   "id": "7179fe65-1b88-4db7-9e90-35548af4e544",
   "metadata": {},
   "outputs": [],
   "source": [
    "df = pd.read_csv('final_dataset_bsky_news.csv')"
   ]
  },
  {
   "cell_type": "code",
   "execution_count": 263,
   "id": "a4ae80f4-8b19-4d27-8900-4b06dc8dc6fd",
   "metadata": {},
   "outputs": [],
   "source": [
    "df = pre.basic_proc_final_dataset(df)"
   ]
  },
  {
   "cell_type": "code",
   "execution_count": 265,
   "id": "e8707561-f138-484d-9b60-8aabacfba4dd",
   "metadata": {},
   "outputs": [],
   "source": [
    "df_weekly = pre.generate_weekly_df(df)"
   ]
  },
  {
   "cell_type": "markdown",
   "id": "692e9eba-03c6-4823-8424-651521f23aab",
   "metadata": {},
   "source": [
    "# Construcción de componentes"
   ]
  },
  {
   "cell_type": "code",
   "execution_count": null,
   "id": "57e7299a-61d6-42d4-97e0-89d5654287e8",
   "metadata": {},
   "outputs": [],
   "source": [
    "# Para los objetos\n",
    "from sklearn.base import BaseEstimator, TransformerMixin\n",
    "from transformers import pipeline\n",
    "import spacy\n",
    "from sklearn.feature_extraction.text import CountVectorizer, TfidfTransformer\n",
    "from sklearn.metrics.pairwise import cosine_similarity"
   ]
  },
  {
   "cell_type": "markdown",
   "id": "3544b2b1-a17e-4607-89af-b4fb7b3973cf",
   "metadata": {},
   "source": [
    "## Sentiment Score"
   ]
  },
  {
   "cell_type": "code",
   "execution_count": 12,
   "id": "c066c371-3fbf-4d29-ac39-e0f946d7e4c6",
   "metadata": {},
   "outputs": [],
   "source": [
    "# SENTIMENT SCORE FUNCTION\n",
    "\n",
    "def get_sentiment_score(text, classifier):\n",
    "    '''Helper function to compute sentiment score for a given text.\n",
    "    Must receive a classifier object'''\n",
    "    \n",
    "    if isinstance(text, str) and text.strip() != '':\n",
    "        result = classifier(text)\n",
    "        label = result[0]['label']\n",
    "        score = result[0]['score']\n",
    "        return score if label == 'POSITIVE' else -score\n",
    "    return 0 # 0 for empty strings\n",
    "\n",
    "def sentiment_score(df, exclude_cols=None):\n",
    "    '''Main function to add sentiment score columns. Receive a full dataframe and returns the df with new score columns.\n",
    "    Only text columns.'''\n",
    "    \n",
    "    classifier = pipeline(\n",
    "        task=\"text-classification\",\n",
    "        model=\"distilbert-base-uncased-finetuned-sst-2-english\"\n",
    "    )\n",
    "\n",
    "    # Filter text columns\n",
    "    text_df = df.drop(columns=exclude_cols) if exclude_cols else df.copy()\n",
    "\n",
    "    # Prepare output DataFrame\n",
    "    df_output = df.copy()\n",
    "\n",
    "    for col in text_df.columns:\n",
    "        new_col_name = f'{col}_sentiment_score'\n",
    "        df_output[new_col_name] = text_df[col].apply(lambda x: get_sentiment_score(x, classifier))\n",
    "        print(f'New column created: {new_col_name} from {col}')\n",
    "    \n",
    "    return df_output"
   ]
  },
  {
   "cell_type": "code",
   "execution_count": 13,
   "id": "fdd2cdc8-9de7-4267-a96b-d208d34629c5",
   "metadata": {},
   "outputs": [],
   "source": [
    "class SentimentScoreExtractor(BaseEstimator, TransformerMixin):\n",
    "    '''\n",
    "    Calculates a Sentiment-Analysis-based score (-1 to 1) for each text field in the DataFrame.\n",
    "    Uses DistilBERT for sentiment analysis.\n",
    "    Score: -1: Negative, 0: Neutral, 1: Positive\n",
    "    '''\n",
    "    \n",
    "    def __init__(self, exclude_columns=None):\n",
    "        '''\n",
    "        Exclude_columns = None by default\n",
    "        \n",
    "        Works with DistilBERT. \n",
    "        Documentation: https://huggingface.co/docs/transformers/model_doc/distilbert\n",
    "        Model = \"distilbert-base-uncased-finetuned-sst-2-english\"\n",
    "        '''\n",
    "        self.exclude_columns = exclude_columns or []\n",
    "\n",
    "    def fit(self, X, y=None):\n",
    "\n",
    "        # Model run\n",
    "        self.classifier = pipeline(\n",
    "            task=\"text-classification\",\n",
    "            model=\"distilbert-base-uncased-finetuned-sst-2-english\"\n",
    "        )\n",
    "        \n",
    "        return self\n",
    "\n",
    "    def transform(self, X):\n",
    "        X_ = X.copy()\n",
    "\n",
    "        # Columns Selection\n",
    "        text_columns = [col for col in X_.columns if col not in self.exclude_columns]\n",
    "        score_df = pd.DataFrame(index=X_.index)\n",
    "\n",
    "        for col in text_columns:\n",
    "            new_col_name = f'{col}_sentiment_score'\n",
    "            score_df[new_col_name] = X_[col].apply(lambda x: self._get_sentiment_score(x))\n",
    "        \n",
    "        return score_df\n",
    "\n",
    "    def _get_sentiment_score(self, text):\n",
    "        if isinstance(text, str) and text.strip() != '':\n",
    "            result = self.classifier(text)\n",
    "            label = result[0]['label']\n",
    "            score = result[0]['score']\n",
    "            return score if label == 'POSITIVE' else -score\n",
    "        return 0\n"
   ]
  },
  {
   "cell_type": "code",
   "execution_count": 14,
   "id": "19309822-8943-4dfc-bb73-7fd6e824f946",
   "metadata": {},
   "outputs": [],
   "source": [
    "sent_extractor = SentimentScoreExtractor()"
   ]
  },
  {
   "cell_type": "code",
   "execution_count": 15,
   "id": "14d8adaf-55ad-4027-8f68-025036a30584",
   "metadata": {},
   "outputs": [
    {
     "data": {
      "text/html": [
       "<style>#sk-container-id-1 {\n",
       "  /* Definition of color scheme common for light and dark mode */\n",
       "  --sklearn-color-text: black;\n",
       "  --sklearn-color-line: gray;\n",
       "  /* Definition of color scheme for unfitted estimators */\n",
       "  --sklearn-color-unfitted-level-0: #fff5e6;\n",
       "  --sklearn-color-unfitted-level-1: #f6e4d2;\n",
       "  --sklearn-color-unfitted-level-2: #ffe0b3;\n",
       "  --sklearn-color-unfitted-level-3: chocolate;\n",
       "  /* Definition of color scheme for fitted estimators */\n",
       "  --sklearn-color-fitted-level-0: #f0f8ff;\n",
       "  --sklearn-color-fitted-level-1: #d4ebff;\n",
       "  --sklearn-color-fitted-level-2: #b3dbfd;\n",
       "  --sklearn-color-fitted-level-3: cornflowerblue;\n",
       "\n",
       "  /* Specific color for light theme */\n",
       "  --sklearn-color-text-on-default-background: var(--sg-text-color, var(--theme-code-foreground, var(--jp-content-font-color1, black)));\n",
       "  --sklearn-color-background: var(--sg-background-color, var(--theme-background, var(--jp-layout-color0, white)));\n",
       "  --sklearn-color-border-box: var(--sg-text-color, var(--theme-code-foreground, var(--jp-content-font-color1, black)));\n",
       "  --sklearn-color-icon: #696969;\n",
       "\n",
       "  @media (prefers-color-scheme: dark) {\n",
       "    /* Redefinition of color scheme for dark theme */\n",
       "    --sklearn-color-text-on-default-background: var(--sg-text-color, var(--theme-code-foreground, var(--jp-content-font-color1, white)));\n",
       "    --sklearn-color-background: var(--sg-background-color, var(--theme-background, var(--jp-layout-color0, #111)));\n",
       "    --sklearn-color-border-box: var(--sg-text-color, var(--theme-code-foreground, var(--jp-content-font-color1, white)));\n",
       "    --sklearn-color-icon: #878787;\n",
       "  }\n",
       "}\n",
       "\n",
       "#sk-container-id-1 {\n",
       "  color: var(--sklearn-color-text);\n",
       "}\n",
       "\n",
       "#sk-container-id-1 pre {\n",
       "  padding: 0;\n",
       "}\n",
       "\n",
       "#sk-container-id-1 input.sk-hidden--visually {\n",
       "  border: 0;\n",
       "  clip: rect(1px 1px 1px 1px);\n",
       "  clip: rect(1px, 1px, 1px, 1px);\n",
       "  height: 1px;\n",
       "  margin: -1px;\n",
       "  overflow: hidden;\n",
       "  padding: 0;\n",
       "  position: absolute;\n",
       "  width: 1px;\n",
       "}\n",
       "\n",
       "#sk-container-id-1 div.sk-dashed-wrapped {\n",
       "  border: 1px dashed var(--sklearn-color-line);\n",
       "  margin: 0 0.4em 0.5em 0.4em;\n",
       "  box-sizing: border-box;\n",
       "  padding-bottom: 0.4em;\n",
       "  background-color: var(--sklearn-color-background);\n",
       "}\n",
       "\n",
       "#sk-container-id-1 div.sk-container {\n",
       "  /* jupyter's `normalize.less` sets `[hidden] { display: none; }`\n",
       "     but bootstrap.min.css set `[hidden] { display: none !important; }`\n",
       "     so we also need the `!important` here to be able to override the\n",
       "     default hidden behavior on the sphinx rendered scikit-learn.org.\n",
       "     See: https://github.com/scikit-learn/scikit-learn/issues/21755 */\n",
       "  display: inline-block !important;\n",
       "  position: relative;\n",
       "}\n",
       "\n",
       "#sk-container-id-1 div.sk-text-repr-fallback {\n",
       "  display: none;\n",
       "}\n",
       "\n",
       "div.sk-parallel-item,\n",
       "div.sk-serial,\n",
       "div.sk-item {\n",
       "  /* draw centered vertical line to link estimators */\n",
       "  background-image: linear-gradient(var(--sklearn-color-text-on-default-background), var(--sklearn-color-text-on-default-background));\n",
       "  background-size: 2px 100%;\n",
       "  background-repeat: no-repeat;\n",
       "  background-position: center center;\n",
       "}\n",
       "\n",
       "/* Parallel-specific style estimator block */\n",
       "\n",
       "#sk-container-id-1 div.sk-parallel-item::after {\n",
       "  content: \"\";\n",
       "  width: 100%;\n",
       "  border-bottom: 2px solid var(--sklearn-color-text-on-default-background);\n",
       "  flex-grow: 1;\n",
       "}\n",
       "\n",
       "#sk-container-id-1 div.sk-parallel {\n",
       "  display: flex;\n",
       "  align-items: stretch;\n",
       "  justify-content: center;\n",
       "  background-color: var(--sklearn-color-background);\n",
       "  position: relative;\n",
       "}\n",
       "\n",
       "#sk-container-id-1 div.sk-parallel-item {\n",
       "  display: flex;\n",
       "  flex-direction: column;\n",
       "}\n",
       "\n",
       "#sk-container-id-1 div.sk-parallel-item:first-child::after {\n",
       "  align-self: flex-end;\n",
       "  width: 50%;\n",
       "}\n",
       "\n",
       "#sk-container-id-1 div.sk-parallel-item:last-child::after {\n",
       "  align-self: flex-start;\n",
       "  width: 50%;\n",
       "}\n",
       "\n",
       "#sk-container-id-1 div.sk-parallel-item:only-child::after {\n",
       "  width: 0;\n",
       "}\n",
       "\n",
       "/* Serial-specific style estimator block */\n",
       "\n",
       "#sk-container-id-1 div.sk-serial {\n",
       "  display: flex;\n",
       "  flex-direction: column;\n",
       "  align-items: center;\n",
       "  background-color: var(--sklearn-color-background);\n",
       "  padding-right: 1em;\n",
       "  padding-left: 1em;\n",
       "}\n",
       "\n",
       "\n",
       "/* Toggleable style: style used for estimator/Pipeline/ColumnTransformer box that is\n",
       "clickable and can be expanded/collapsed.\n",
       "- Pipeline and ColumnTransformer use this feature and define the default style\n",
       "- Estimators will overwrite some part of the style using the `sk-estimator` class\n",
       "*/\n",
       "\n",
       "/* Pipeline and ColumnTransformer style (default) */\n",
       "\n",
       "#sk-container-id-1 div.sk-toggleable {\n",
       "  /* Default theme specific background. It is overwritten whether we have a\n",
       "  specific estimator or a Pipeline/ColumnTransformer */\n",
       "  background-color: var(--sklearn-color-background);\n",
       "}\n",
       "\n",
       "/* Toggleable label */\n",
       "#sk-container-id-1 label.sk-toggleable__label {\n",
       "  cursor: pointer;\n",
       "  display: block;\n",
       "  width: 100%;\n",
       "  margin-bottom: 0;\n",
       "  padding: 0.5em;\n",
       "  box-sizing: border-box;\n",
       "  text-align: center;\n",
       "}\n",
       "\n",
       "#sk-container-id-1 label.sk-toggleable__label-arrow:before {\n",
       "  /* Arrow on the left of the label */\n",
       "  content: \"▸\";\n",
       "  float: left;\n",
       "  margin-right: 0.25em;\n",
       "  color: var(--sklearn-color-icon);\n",
       "}\n",
       "\n",
       "#sk-container-id-1 label.sk-toggleable__label-arrow:hover:before {\n",
       "  color: var(--sklearn-color-text);\n",
       "}\n",
       "\n",
       "/* Toggleable content - dropdown */\n",
       "\n",
       "#sk-container-id-1 div.sk-toggleable__content {\n",
       "  max-height: 0;\n",
       "  max-width: 0;\n",
       "  overflow: hidden;\n",
       "  text-align: left;\n",
       "  /* unfitted */\n",
       "  background-color: var(--sklearn-color-unfitted-level-0);\n",
       "}\n",
       "\n",
       "#sk-container-id-1 div.sk-toggleable__content.fitted {\n",
       "  /* fitted */\n",
       "  background-color: var(--sklearn-color-fitted-level-0);\n",
       "}\n",
       "\n",
       "#sk-container-id-1 div.sk-toggleable__content pre {\n",
       "  margin: 0.2em;\n",
       "  border-radius: 0.25em;\n",
       "  color: var(--sklearn-color-text);\n",
       "  /* unfitted */\n",
       "  background-color: var(--sklearn-color-unfitted-level-0);\n",
       "}\n",
       "\n",
       "#sk-container-id-1 div.sk-toggleable__content.fitted pre {\n",
       "  /* unfitted */\n",
       "  background-color: var(--sklearn-color-fitted-level-0);\n",
       "}\n",
       "\n",
       "#sk-container-id-1 input.sk-toggleable__control:checked~div.sk-toggleable__content {\n",
       "  /* Expand drop-down */\n",
       "  max-height: 200px;\n",
       "  max-width: 100%;\n",
       "  overflow: auto;\n",
       "}\n",
       "\n",
       "#sk-container-id-1 input.sk-toggleable__control:checked~label.sk-toggleable__label-arrow:before {\n",
       "  content: \"▾\";\n",
       "}\n",
       "\n",
       "/* Pipeline/ColumnTransformer-specific style */\n",
       "\n",
       "#sk-container-id-1 div.sk-label input.sk-toggleable__control:checked~label.sk-toggleable__label {\n",
       "  color: var(--sklearn-color-text);\n",
       "  background-color: var(--sklearn-color-unfitted-level-2);\n",
       "}\n",
       "\n",
       "#sk-container-id-1 div.sk-label.fitted input.sk-toggleable__control:checked~label.sk-toggleable__label {\n",
       "  background-color: var(--sklearn-color-fitted-level-2);\n",
       "}\n",
       "\n",
       "/* Estimator-specific style */\n",
       "\n",
       "/* Colorize estimator box */\n",
       "#sk-container-id-1 div.sk-estimator input.sk-toggleable__control:checked~label.sk-toggleable__label {\n",
       "  /* unfitted */\n",
       "  background-color: var(--sklearn-color-unfitted-level-2);\n",
       "}\n",
       "\n",
       "#sk-container-id-1 div.sk-estimator.fitted input.sk-toggleable__control:checked~label.sk-toggleable__label {\n",
       "  /* fitted */\n",
       "  background-color: var(--sklearn-color-fitted-level-2);\n",
       "}\n",
       "\n",
       "#sk-container-id-1 div.sk-label label.sk-toggleable__label,\n",
       "#sk-container-id-1 div.sk-label label {\n",
       "  /* The background is the default theme color */\n",
       "  color: var(--sklearn-color-text-on-default-background);\n",
       "}\n",
       "\n",
       "/* On hover, darken the color of the background */\n",
       "#sk-container-id-1 div.sk-label:hover label.sk-toggleable__label {\n",
       "  color: var(--sklearn-color-text);\n",
       "  background-color: var(--sklearn-color-unfitted-level-2);\n",
       "}\n",
       "\n",
       "/* Label box, darken color on hover, fitted */\n",
       "#sk-container-id-1 div.sk-label.fitted:hover label.sk-toggleable__label.fitted {\n",
       "  color: var(--sklearn-color-text);\n",
       "  background-color: var(--sklearn-color-fitted-level-2);\n",
       "}\n",
       "\n",
       "/* Estimator label */\n",
       "\n",
       "#sk-container-id-1 div.sk-label label {\n",
       "  font-family: monospace;\n",
       "  font-weight: bold;\n",
       "  display: inline-block;\n",
       "  line-height: 1.2em;\n",
       "}\n",
       "\n",
       "#sk-container-id-1 div.sk-label-container {\n",
       "  text-align: center;\n",
       "}\n",
       "\n",
       "/* Estimator-specific */\n",
       "#sk-container-id-1 div.sk-estimator {\n",
       "  font-family: monospace;\n",
       "  border: 1px dotted var(--sklearn-color-border-box);\n",
       "  border-radius: 0.25em;\n",
       "  box-sizing: border-box;\n",
       "  margin-bottom: 0.5em;\n",
       "  /* unfitted */\n",
       "  background-color: var(--sklearn-color-unfitted-level-0);\n",
       "}\n",
       "\n",
       "#sk-container-id-1 div.sk-estimator.fitted {\n",
       "  /* fitted */\n",
       "  background-color: var(--sklearn-color-fitted-level-0);\n",
       "}\n",
       "\n",
       "/* on hover */\n",
       "#sk-container-id-1 div.sk-estimator:hover {\n",
       "  /* unfitted */\n",
       "  background-color: var(--sklearn-color-unfitted-level-2);\n",
       "}\n",
       "\n",
       "#sk-container-id-1 div.sk-estimator.fitted:hover {\n",
       "  /* fitted */\n",
       "  background-color: var(--sklearn-color-fitted-level-2);\n",
       "}\n",
       "\n",
       "/* Specification for estimator info (e.g. \"i\" and \"?\") */\n",
       "\n",
       "/* Common style for \"i\" and \"?\" */\n",
       "\n",
       ".sk-estimator-doc-link,\n",
       "a:link.sk-estimator-doc-link,\n",
       "a:visited.sk-estimator-doc-link {\n",
       "  float: right;\n",
       "  font-size: smaller;\n",
       "  line-height: 1em;\n",
       "  font-family: monospace;\n",
       "  background-color: var(--sklearn-color-background);\n",
       "  border-radius: 1em;\n",
       "  height: 1em;\n",
       "  width: 1em;\n",
       "  text-decoration: none !important;\n",
       "  margin-left: 1ex;\n",
       "  /* unfitted */\n",
       "  border: var(--sklearn-color-unfitted-level-1) 1pt solid;\n",
       "  color: var(--sklearn-color-unfitted-level-1);\n",
       "}\n",
       "\n",
       ".sk-estimator-doc-link.fitted,\n",
       "a:link.sk-estimator-doc-link.fitted,\n",
       "a:visited.sk-estimator-doc-link.fitted {\n",
       "  /* fitted */\n",
       "  border: var(--sklearn-color-fitted-level-1) 1pt solid;\n",
       "  color: var(--sklearn-color-fitted-level-1);\n",
       "}\n",
       "\n",
       "/* On hover */\n",
       "div.sk-estimator:hover .sk-estimator-doc-link:hover,\n",
       ".sk-estimator-doc-link:hover,\n",
       "div.sk-label-container:hover .sk-estimator-doc-link:hover,\n",
       ".sk-estimator-doc-link:hover {\n",
       "  /* unfitted */\n",
       "  background-color: var(--sklearn-color-unfitted-level-3);\n",
       "  color: var(--sklearn-color-background);\n",
       "  text-decoration: none;\n",
       "}\n",
       "\n",
       "div.sk-estimator.fitted:hover .sk-estimator-doc-link.fitted:hover,\n",
       ".sk-estimator-doc-link.fitted:hover,\n",
       "div.sk-label-container:hover .sk-estimator-doc-link.fitted:hover,\n",
       ".sk-estimator-doc-link.fitted:hover {\n",
       "  /* fitted */\n",
       "  background-color: var(--sklearn-color-fitted-level-3);\n",
       "  color: var(--sklearn-color-background);\n",
       "  text-decoration: none;\n",
       "}\n",
       "\n",
       "/* Span, style for the box shown on hovering the info icon */\n",
       ".sk-estimator-doc-link span {\n",
       "  display: none;\n",
       "  z-index: 9999;\n",
       "  position: relative;\n",
       "  font-weight: normal;\n",
       "  right: .2ex;\n",
       "  padding: .5ex;\n",
       "  margin: .5ex;\n",
       "  width: min-content;\n",
       "  min-width: 20ex;\n",
       "  max-width: 50ex;\n",
       "  color: var(--sklearn-color-text);\n",
       "  box-shadow: 2pt 2pt 4pt #999;\n",
       "  /* unfitted */\n",
       "  background: var(--sklearn-color-unfitted-level-0);\n",
       "  border: .5pt solid var(--sklearn-color-unfitted-level-3);\n",
       "}\n",
       "\n",
       ".sk-estimator-doc-link.fitted span {\n",
       "  /* fitted */\n",
       "  background: var(--sklearn-color-fitted-level-0);\n",
       "  border: var(--sklearn-color-fitted-level-3);\n",
       "}\n",
       "\n",
       ".sk-estimator-doc-link:hover span {\n",
       "  display: block;\n",
       "}\n",
       "\n",
       "/* \"?\"-specific style due to the `<a>` HTML tag */\n",
       "\n",
       "#sk-container-id-1 a.estimator_doc_link {\n",
       "  float: right;\n",
       "  font-size: 1rem;\n",
       "  line-height: 1em;\n",
       "  font-family: monospace;\n",
       "  background-color: var(--sklearn-color-background);\n",
       "  border-radius: 1rem;\n",
       "  height: 1rem;\n",
       "  width: 1rem;\n",
       "  text-decoration: none;\n",
       "  /* unfitted */\n",
       "  color: var(--sklearn-color-unfitted-level-1);\n",
       "  border: var(--sklearn-color-unfitted-level-1) 1pt solid;\n",
       "}\n",
       "\n",
       "#sk-container-id-1 a.estimator_doc_link.fitted {\n",
       "  /* fitted */\n",
       "  border: var(--sklearn-color-fitted-level-1) 1pt solid;\n",
       "  color: var(--sklearn-color-fitted-level-1);\n",
       "}\n",
       "\n",
       "/* On hover */\n",
       "#sk-container-id-1 a.estimator_doc_link:hover {\n",
       "  /* unfitted */\n",
       "  background-color: var(--sklearn-color-unfitted-level-3);\n",
       "  color: var(--sklearn-color-background);\n",
       "  text-decoration: none;\n",
       "}\n",
       "\n",
       "#sk-container-id-1 a.estimator_doc_link.fitted:hover {\n",
       "  /* fitted */\n",
       "  background-color: var(--sklearn-color-fitted-level-3);\n",
       "}\n",
       "</style><div id=\"sk-container-id-1\" class=\"sk-top-container\"><div class=\"sk-text-repr-fallback\"><pre>SentimentScoreExtractor(exclude_columns=[])</pre><b>In a Jupyter environment, please rerun this cell to show the HTML representation or trust the notebook. <br />On GitHub, the HTML representation is unable to render, please try loading this page with nbviewer.org.</b></div><div class=\"sk-container\" hidden><div class=\"sk-item\"><div class=\"sk-estimator  sk-toggleable\"><input class=\"sk-toggleable__control sk-hidden--visually\" id=\"sk-estimator-id-1\" type=\"checkbox\" checked><label for=\"sk-estimator-id-1\" class=\"sk-toggleable__label  sk-toggleable__label-arrow \">&nbsp;SentimentScoreExtractor<span class=\"sk-estimator-doc-link \">i<span>Not fitted</span></span></label><div class=\"sk-toggleable__content \"><pre>SentimentScoreExtractor(exclude_columns=[])</pre></div> </div></div></div></div>"
      ],
      "text/plain": [
       "SentimentScoreExtractor(exclude_columns=[])"
      ]
     },
     "execution_count": 15,
     "metadata": {},
     "output_type": "execute_result"
    }
   ],
   "source": [
    "sent_extractor"
   ]
  },
  {
   "cell_type": "code",
   "execution_count": 16,
   "id": "c0b4e133-f03c-4693-a5fd-6a963150242b",
   "metadata": {},
   "outputs": [
    {
     "data": {
      "text/plain": [
       "{'exclude_columns': []}"
      ]
     },
     "execution_count": 16,
     "metadata": {},
     "output_type": "execute_result"
    }
   ],
   "source": [
    "sent_extractor.get_params()"
   ]
  },
  {
   "cell_type": "code",
   "execution_count": null,
   "id": "60a43fda-5431-4b44-b4c2-a376a3d23365",
   "metadata": {},
   "outputs": [],
   "source": [
    "sent_df = sent_extractor.fit_transform(df_text)"
   ]
  },
  {
   "cell_type": "code",
   "execution_count": null,
   "id": "c55e9daf-908e-4ce4-8264-29d9253731f5",
   "metadata": {},
   "outputs": [],
   "source": [
    "sent_df"
   ]
  },
  {
   "cell_type": "code",
   "execution_count": null,
   "id": "9be0b388-fa06-4cad-a49b-e5cae2c4af18",
   "metadata": {},
   "outputs": [],
   "source": [
    "plt.figure(figsize=(14, 8))\n",
    "sns.heatmap(sent_df.T, cmap='coolwarm', center=0, cbar_kws={'label': 'Sentiment Score'})\n",
    "plt.title('Evolución del Sentimiento por Categoría')\n",
    "plt.xlabel('Fecha')\n",
    "plt.ylabel('Categoría temática')\n",
    "plt.tight_layout()\n",
    "plt.show()"
   ]
  },
  {
   "cell_type": "code",
   "execution_count": null,
   "id": "bda9f144-e30b-4fa2-bd4c-e5c56a240c47",
   "metadata": {},
   "outputs": [],
   "source": [
    "mean_scores = sent_df.mean().sort_values(ascending=False)\n",
    "mean_scores.plot(kind='bar', figsize=(10, 6), color='skyblue')\n",
    "plt.title('Sentimiento Promedio por Categoría')\n",
    "plt.ylabel('Sentiment Score')\n",
    "plt.xlabel('Categoría')\n",
    "plt.xticks(rotation=45, ha='right')\n",
    "plt.tight_layout()\n",
    "plt.savefig('mean_sentiment_topic.png')\n",
    "plt.show()"
   ]
  },
  {
   "cell_type": "markdown",
   "id": "d4a66537-480b-4294-99d0-191a902f22e8",
   "metadata": {},
   "source": [
    "## Category Impact"
   ]
  },
  {
   "cell_type": "code",
   "execution_count": null,
   "id": "2a000e86-f16f-4b16-a0f2-fc84921beb8d",
   "metadata": {},
   "outputs": [],
   "source": [
    "# CATEGORY IMPACT FUNCTION\n",
    "\n",
    "def category_impact_score(df, exclude_cols=None):\n",
    "    '''\n",
    "    Gives a score to every headline category based in past analysis.\n",
    "    If the category is new, score = 0.\n",
    "    Receive a full dataframe and returns the df with new score columns.\n",
    "    '''\n",
    "    \n",
    "    category_weights = {'artificial intelligence': -0.33,\n",
    "                        'crime': 0.1,\n",
    "                        'education': -0.8,\n",
    "                        'elections': 1.0,\n",
    "                        'entertainment': -0.22,\n",
    "                        'environment': -0.44,\n",
    "                        'finance': 0.52,\n",
    "                        'health': 0.62,\n",
    "                        'immigration': -0.8,\n",
    "                        'international relations': -0.47,\n",
    "                        'pandemics': -0.49,\n",
    "                        'politics': 0.06,\n",
    "                        'protests': -0.35,\n",
    "                        'science': -0.38,\n",
    "                        'sports': -0.81,\n",
    "                        'technology': -0.38,\n",
    "                        'videogames': -1.0,\n",
    "                        'war': 0.04}\n",
    "\n",
    "    # Filter text columns\n",
    "    text_df = df.drop(columns=exclude_cols) if exclude_cols else df.copy()\n",
    "\n",
    "    # Prepare output DataFrame\n",
    "    df_output = df.copy()\n",
    "\n",
    "    for col in text_df.columns:\n",
    "        new_col_name = f'{col}_category_score'\n",
    "        if col in category_weights.keys():\n",
    "            df_output[new_col_name] = category_weights[col]\n",
    "            print(f'New column created: {new_col_name} from {col}')\n",
    "        else:\n",
    "            df_output[new_col_name] = 0\n",
    "    \n",
    "    return df_output\n",
    "\n",
    "    "
   ]
  },
  {
   "cell_type": "code",
   "execution_count": null,
   "id": "def22a66-df85-42fd-9c3f-c960f8e4083c",
   "metadata": {},
   "outputs": [],
   "source": [
    "class CategoryImpactExtractor(BaseEstimator, TransformerMixin):\n",
    "    '''\n",
    "    Calculates a Category-based score (-1 to 1) for each text field in the DataFrame.\n",
    "    Uses predefined category weights.\n",
    "    If the category is new, score = 0.\n",
    "    '''\n",
    "    def __init__(self, exclude_columns=None):\n",
    "        '''\n",
    "        Exclude_columns = None by default\n",
    "        \n",
    "        Check out category weights with .category_weights\n",
    "        '''\n",
    "        self.exclude_columns = exclude_columns or []\n",
    "\n",
    "        # Category Weights\n",
    "        self.category_weights = {\n",
    "            'artificial intelligence': -0.33,\n",
    "            'crime': 0.1,\n",
    "            'education': -0.8,\n",
    "            'elections': 1.0,\n",
    "            'entertainment': -0.22,\n",
    "            'environment': -0.44,\n",
    "            'finance': 0.52,\n",
    "            'health': 0.62,\n",
    "            'immigration': -0.8,\n",
    "            'international relations': -0.47,\n",
    "            'pandemics': -0.49,\n",
    "            'politics': 0.06,\n",
    "            'protests': -0.35,\n",
    "            'science': -0.38,\n",
    "            'sports': -0.81,\n",
    "            'technology': -0.38,\n",
    "            'videogames': -1.0,\n",
    "            'war': 0.04\n",
    "        }\n",
    "\n",
    "    def fit(self, X, y=None):\n",
    "        # Nothing to learn\n",
    "        return self\n",
    "\n",
    "    def transform(self, X):\n",
    "        X_ = X.copy()\n",
    "\n",
    "        # Columns selection (all if not excluded)\n",
    "        text_columns = [col for col in X_.columns if col not in self.exclude_columns]\n",
    "        score_df = pd.DataFrame(index=X_.index)\n",
    "\n",
    "        for col in text_columns:\n",
    "            score = self.category_weights.get(col, 0)\n",
    "            score_col_name = f'{col}_category_score'\n",
    "            score_df[score_col_name] = score\n",
    "\n",
    "        return score_df"
   ]
  },
  {
   "cell_type": "code",
   "execution_count": null,
   "id": "4833b2cd-3a86-4c4d-89bf-2f32b80a69f7",
   "metadata": {},
   "outputs": [],
   "source": [
    "extractor = CategoryImpactExtractor()"
   ]
  },
  {
   "cell_type": "code",
   "execution_count": null,
   "id": "b4e0187f-908d-44bb-aeab-5f7dfa903a1b",
   "metadata": {},
   "outputs": [],
   "source": [
    "extractor"
   ]
  },
  {
   "cell_type": "code",
   "execution_count": null,
   "id": "baae1da5-103f-44b9-af63-34c6c4be3eb4",
   "metadata": {},
   "outputs": [],
   "source": [
    "extractor.category_weights"
   ]
  },
  {
   "cell_type": "code",
   "execution_count": null,
   "id": "fc9021e3-82a5-4367-88fd-81779462f8f6",
   "metadata": {},
   "outputs": [],
   "source": [
    "category_scores = extractor.fit_transform(df_text)"
   ]
  },
  {
   "cell_type": "markdown",
   "id": "09f3fb1e-23bd-4abe-9ad0-b82104adc4ff",
   "metadata": {},
   "source": [
    "## NER Score"
   ]
  },
  {
   "cell_type": "code",
   "execution_count": null,
   "id": "94c49de1-67fe-4a39-b4df-a289028d6b82",
   "metadata": {},
   "outputs": [],
   "source": [
    "# NER SCORE FUNCTION\n",
    "def ner_score(text, use_whitelist=False):\n",
    "    \"\"\"\n",
    "    Calculates a NER-based score from a given text using entity type weights.\n",
    "    If `use_whitelist=True`, entities in the whitelist are counted +0.5.\n",
    "    \"\"\"\n",
    "    if not isinstance(text, str) or not text.strip():\n",
    "        return 0\n",
    "\n",
    "    # Load spaCy model\n",
    "    nlp = spacy.load(\"en_core_web_sm\")\n",
    "\n",
    "    whitelist = {'trump', 'elon musk', 'elon', 'musk', 'biden', 'putin', 'zelensky', 'xi', 'jinping', 'macron', 'von der leyen',\n",
    "             'modi', 'meloni', 'lula da silva', 'netanyahu', 'kamala harris', 'le pen', 'milei', 'scholz',\n",
    "             'twitter', 'x', 'tesla', 'united nations', 'european union', 'nato', 'us'}\n",
    "\n",
    "    entity_weights = {'CARDINAL': -0.69,\n",
    "                 'DATE': -0.64,\n",
    "                 'EVENT': -0.93,\n",
    "                 'FAC': -0.8,\n",
    "                 'GPE': -0.73,\n",
    "                 'LAW': -0.56,\n",
    "                 'LOC': -0.77,\n",
    "                 'MONEY': -0.31,\n",
    "                 'NORP': -0.7,\n",
    "                 'ORDINAL': -0.66,\n",
    "                 'ORG': -0.69,\n",
    "                 'PERSON': -0.68,\n",
    "                 'PRODUCT': -1.0,\n",
    "                 'QUANTITY': 1.0,\n",
    "                 'TIME': -0.78,\n",
    "                 'WORK_OF_ART': -0.95}\n",
    "    \n",
    "    doc = nlp(text)\n",
    "    score = 0\n",
    "\n",
    "    for ent in doc.ents:\n",
    "        label = ent.label_\n",
    "        if label in entity_weights:\n",
    "            entity_clean = ent.text.lower().strip()\n",
    "            print(entity_clean)\n",
    "\n",
    "            if use_whitelist == True:\n",
    "                if entity_clean in whitelist:\n",
    "                    score += entity_weights[label] + 0.5\n",
    "            else:\n",
    "                score += entity_weights[label]\n",
    "\n",
    "    return score"
   ]
  },
  {
   "cell_type": "code",
   "execution_count": null,
   "id": "bf54266c-e01f-4e88-a8ba-b570768f4e01",
   "metadata": {},
   "outputs": [],
   "source": [
    "class NERScoreExtractor(BaseEstimator, TransformerMixin):\n",
    "    '''\n",
    "    Calculates a NER-based score (-1 to 1) for each text field in the DataFrame.\n",
    "    Uses SpaCy and predefined entity weights.\n",
    "    '''\n",
    "\n",
    "    def __init__(self, exclude_columns=None, use_whitelist=True):\n",
    "        '''\n",
    "        exclude_columns = None by default\n",
    "        use_whitelist = if True, entities in the whitelist are counted +0.5\n",
    "        \n",
    "        Works with SpaCy. \n",
    "        Documentation: https://spacy.io/\n",
    "        Model = en_core_web_sm\"\n",
    "        \n",
    "        Check out entity weights with .category_weights\n",
    "        Check out whitelist with .whitelist\n",
    "        '''\n",
    "        \n",
    "        self.exclude_columns = exclude_columns or []\n",
    "        self.use_whitelist = use_whitelist\n",
    "\n",
    "        self.entity_weights = {\n",
    "            'CARDINAL': -0.69, 'DATE': -0.64, 'EVENT': -0.93, 'FAC': -0.8,\n",
    "            'GPE': -0.73, 'LAW': -0.56, 'LOC': -0.77, 'MONEY': -0.31,\n",
    "            'NORP': -0.7, 'ORDINAL': -0.66, 'ORG': -0.69, 'PERSON': -0.68,\n",
    "            'PRODUCT': -1.0, 'QUANTITY': 1.0, 'TIME': -0.78, 'WORK_OF_ART': -0.95\n",
    "        }\n",
    "\n",
    "        self.whitelist = {\n",
    "            'trump', 'elon musk', 'elon', 'musk', 'biden', 'putin', 'zelensky', 'xi', 'jinping',\n",
    "            'macron', 'von der leyen', 'modi', 'meloni', 'lula da silva', 'netanyahu',\n",
    "            'kamala harris', 'le pen', 'milei', 'scholz', 'twitter', 'x', 'tesla',\n",
    "            'united nations', 'european union', 'nato', 'us'\n",
    "        }\n",
    "\n",
    "    def fit(self, X, y=None):\n",
    "        self.nlp = spacy.load(\"en_core_web_sm\")\n",
    "        return self\n",
    "\n",
    "    def _score_text(self, text):\n",
    "        if not isinstance(text, str) or text.strip() == \"\":\n",
    "            return 0\n",
    "\n",
    "        doc = self.nlp(text)\n",
    "        score = 0\n",
    "\n",
    "        for ent in doc.ents:\n",
    "            label = ent.label_\n",
    "            if label in self.entity_weights:\n",
    "                weight = self.entity_weights[label]\n",
    "                ent_text = ent.text.lower().strip()\n",
    "\n",
    "                if self.use_whitelist:\n",
    "                    if ent_text in self.whitelist:\n",
    "                        weight += 0.5  # boost for whitelisted entities\n",
    "                    else:\n",
    "                        continue  # skip entities not in whitelist\n",
    "\n",
    "                score += weight\n",
    "        return score\n",
    "\n",
    "    def transform(self, X):\n",
    "        X_ = X.copy()\n",
    "        text_columns = [col for col in X_.columns if col not in self.exclude_columns]\n",
    "        score_df = pd.DataFrame(index=X_.index)\n",
    "\n",
    "        for col in text_columns:\n",
    "            new_col = f'{col}_ner_score'\n",
    "            score_df[new_col] = X_[col].apply(self._score_text)\n",
    "\n",
    "        return score_df\n"
   ]
  },
  {
   "cell_type": "code",
   "execution_count": null,
   "id": "b75818fd-c278-4292-b234-2af4e833d4e8",
   "metadata": {},
   "outputs": [],
   "source": [
    "ner_extractor = NERScoreExtractor()"
   ]
  },
  {
   "cell_type": "code",
   "execution_count": null,
   "id": "b3cf173c-4989-496e-8613-276956ae8405",
   "metadata": {},
   "outputs": [],
   "source": [
    "ner_extractor"
   ]
  },
  {
   "cell_type": "code",
   "execution_count": null,
   "id": "5405e710-6bb8-4c87-a81d-2d34096211c4",
   "metadata": {},
   "outputs": [],
   "source": [
    "ner_df = ner_extractor.fit_transform(df_text)"
   ]
  },
  {
   "cell_type": "markdown",
   "id": "e0c6d0db-450a-4a67-a7db-fbc309188b8b",
   "metadata": {},
   "source": [
    "## Novelty Score"
   ]
  },
  {
   "cell_type": "code",
   "execution_count": null,
   "id": "e9fac10a-6bfe-4f75-8a0e-fd41ae13c8bb",
   "metadata": {},
   "outputs": [],
   "source": [
    "# NOVELTY SCORE FUNCTION\n",
    "\n",
    "def tfidf_matrix(df, max_features=1000, ngram_range=(1,2), max_df=0.97, norm='l2'):\n",
    "    '''Receives full dataframe (must have date column) and some optionals params.\n",
    "    Preprocess and applies TF-IDF to all text columns in dataframe.\n",
    "    Returns tfidf matrix'''\n",
    "\n",
    "    df = df.reset_index(drop=False)\n",
    "    \n",
    "    # We save the 'date' column as Series for future reference\n",
    "    date_col = df['date']\n",
    "    \n",
    "    # Numeric & Categoric\n",
    "    num_ft = df._get_numeric_data().columns\n",
    "    cat_ft = df.drop(columns=list(num_ft)+['date']).columns\n",
    "    \n",
    "    # Basic text cleaning (spaces, punctuation and NaN)\n",
    "    for column in cat_ft:\n",
    "        df[column] = df[column].apply(pre.text_cleaning)\n",
    "        \n",
    "    # Text join\n",
    "    df['full_text'] = df[cat_ft].agg(\" \".join, axis=1)\n",
    "    \n",
    "    # Pipeline\n",
    "    vectorizer = Pipeline([\n",
    "        ('bow', CountVectorizer(lowercase=True, max_features=max_features, stop_words='english', ngram_range=ngram_range, max_df=max_df)), # Bag-of-Words\n",
    "        ('tfidf', TfidfTransformer(norm=norm)) # TF-IDF\n",
    "    ])\n",
    "    \n",
    "    tfidf = vectorizer.fit_transform(df['full_text'])\n",
    "\n",
    "    return tfidf\n",
    "    \n",
    "def compute_novelty_scores(tfidf_matrix, window_size=30):\n",
    "    \"\"\"\n",
    "    Calculates a novelty score for each document based on cosine similarity\n",
    "    to the rolling average of previous documents' TF-IDF vectors.\n",
    "    \n",
    "    tfidf_matrix: sparse matrix (e.g., from TfidfVectorizer)\n",
    "    window_size: how many previous samples to average for comparison\n",
    "    \"\"\"\n",
    "\n",
    "    tfidf_matrix = tfidf_matrix.toarray()\n",
    "    \n",
    "    novelty_scores = []\n",
    "\n",
    "    for i in range(tfidf_matrix.shape[0]):\n",
    "        if i < window_size:\n",
    "            novelty_scores.append(0)  # not enough history\n",
    "        else:\n",
    "            current_vector = tfidf_matrix[i]\n",
    "            previous_window = tfidf_matrix[i - window_size:i]\n",
    "            mean_vector = previous_window.mean(axis=0)\n",
    "\n",
    "            if current_vector.ndim == 1:\n",
    "                current_vector = current_vector.reshape(1, -1)\n",
    "            if mean_vector.ndim == 1:\n",
    "                mean_vector = mean_vector.reshape(1, -1)\n",
    "                \n",
    "            similarity = cosine_similarity(current_vector, mean_vector)[0][0]\n",
    "            novelty = 1 - similarity\n",
    "            novelty_scores.append(novelty)\n",
    "\n",
    "    return novelty_scores"
   ]
  },
  {
   "cell_type": "code",
   "execution_count": null,
   "id": "5938257e-ac7e-4d3e-aa66-705b93cceb17",
   "metadata": {},
   "outputs": [],
   "source": [
    "class NoveltyScoreExtractor(BaseEstimator, TransformerMixin):\n",
    "    '''\n",
    "    Calculates a cosine-similarity-based score (-1 to 1) for each row combined.\n",
    "    Uses CountVectorizer, TfidfTransformer and cosine_similarity.\n",
    "    '''\n",
    "\n",
    "    def __init__(self, exclude_columns=None, window_size=30, max_features=1000, ngram_range=(1,2), max_df=0.97, norm='l2'):\n",
    "        '''\n",
    "        exclude_columns = None by default\n",
    "        window_size = how many previous samples to average for comparison, 30 by default\n",
    "        CountVectorizer params by default = max_features=1000, ngram_range=(1,2), max_df=0.97\n",
    "        TfidfTransformer params by default = norm='l2'\n",
    "        \n",
    "        Works with Sklearn. \n",
    "        Documentation: https://scikit-learn.org/\n",
    "        '''\n",
    "        \n",
    "        self.exclude_columns = exclude_columns or []\n",
    "        self.window_size = window_size\n",
    "        self.max_features = max_features\n",
    "        self.ngram_range = ngram_range\n",
    "        self.max_df = max_df\n",
    "        self.norm = norm\n",
    "\n",
    "    def fit(self, X, y=None):\n",
    "        self.vectorizer = CountVectorizer(lowercase=True, max_features=self.max_features, stop_words='english', ngram_range=self.ngram_range, max_df=self.max_df)\n",
    "        self.tfidf = TfidfTransformer(norm=self.norm)\n",
    "        return self\n",
    "\n",
    "    def transform(self, X):\n",
    "        X_ = X.copy()\n",
    "        \n",
    "        # Columns selection\n",
    "        text_columns = [col for col in X_.columns if col not in self.exclude_columns]\n",
    "\n",
    "        # Text row-combining \n",
    "        X_['full_text'] = X_[text_columns].fillna('').agg(' '.join, axis=1)\n",
    "\n",
    "        bow = self.vectorizer.fit_transform(X_['full_text'])\n",
    "        tfidf_matrix = self.tfidf.fit_transform(bow).toarray()\n",
    "\n",
    "        # Calculate Novelty Score\n",
    "        novelty_scores = []\n",
    "\n",
    "        for i in range(tfidf_matrix.shape[0]):\n",
    "            if i < self.window_size:\n",
    "                novelty_scores.append(0)  # No history\n",
    "            else:\n",
    "                current_vector = tfidf_matrix[i].reshape(1, -1)\n",
    "                window_vectors = tfidf_matrix[i - self.window_size:i]\n",
    "                mean_vector = window_vectors.mean(axis=0).reshape(1, -1)\n",
    "\n",
    "                similarity = cosine_similarity(current_vector, mean_vector)[0][0]\n",
    "                novelty = 1 - similarity\n",
    "                novelty_scores.append(novelty)\n",
    "\n",
    "        # 0 filling first rows\n",
    "        novelty_scores = [0] * (self.window_size) + novelty_scores[self.window_size:]\n",
    "        \n",
    "        return pd.DataFrame({'novelty_score': novelty_scores}, index=X_.index)"
   ]
  },
  {
   "cell_type": "code",
   "execution_count": null,
   "id": "d4ae2315-9e4d-41d8-b1d1-48854f066cb1",
   "metadata": {},
   "outputs": [],
   "source": [
    "nov_extractor = NoveltyScoreExtractor()"
   ]
  },
  {
   "cell_type": "code",
   "execution_count": null,
   "id": "5c6e306b-512a-4843-9467-bb998c660370",
   "metadata": {},
   "outputs": [],
   "source": [
    "nov_extractor"
   ]
  },
  {
   "cell_type": "code",
   "execution_count": null,
   "id": "daaad90c-8e36-49e7-8cb2-a3af189e634d",
   "metadata": {},
   "outputs": [],
   "source": [
    "nov_df = nov_extractor.fit_transform(df_text)"
   ]
  },
  {
   "cell_type": "code",
   "execution_count": null,
   "id": "c098b987-04f5-4588-af7d-523b37336225",
   "metadata": {},
   "outputs": [],
   "source": [
    "nov_df"
   ]
  },
  {
   "cell_type": "code",
   "execution_count": null,
   "id": "5447cb39-cda1-496d-b753-275aae7c5691",
   "metadata": {},
   "outputs": [],
   "source": [
    "ep.var_per_day(nov_df['novelty_score'], 'Novelty Score', save=True, filename='Novelty Score')"
   ]
  },
  {
   "cell_type": "markdown",
   "id": "547c159b-7a5a-4866-881a-c0a58410d59d",
   "metadata": {},
   "source": [
    "# Pipeline"
   ]
  },
  {
   "cell_type": "code",
   "execution_count": 30,
   "id": "e47e5782-8f84-4258-bccc-e31a896d8e68",
   "metadata": {},
   "outputs": [],
   "source": [
    "from forecasting_bluesky.impact_score import SentimentScoreExtractor, CategoryImpactExtractor, NERScoreExtractor, NoveltyScoreExtractor\n",
    "from sklearn.pipeline import Pipeline, FeatureUnion\n"
   ]
  },
  {
   "cell_type": "code",
   "execution_count": 32,
   "id": "4585e29e-c179-487c-8889-d3c2693368cf",
   "metadata": {},
   "outputs": [],
   "source": [
    "# Unimos los 4 componentes en un único pipeline\n",
    "\n",
    "impact_score_pipeline = FeatureUnion([\n",
    "    ('sentiment', \n",
    "     SentimentScoreExtractor()),\n",
    "    ('category', \n",
    "     CategoryImpactExtractor()),\n",
    "    ('ner', \n",
    "     NERScoreExtractor()),\n",
    "    ('novelty', \n",
    "     NoveltyScoreExtractor())\n",
    "])\n"
   ]
  },
  {
   "cell_type": "markdown",
   "id": "763da059-4d9f-4e6c-864f-692f9ea3e30e",
   "metadata": {},
   "source": [
    "### Datos para el modelo\n",
    "- X = matriz obtenida del impact_score_pipeline con los score de cada componente individual.\n",
    "- y = clasificación binaria, 1 (hay pico de actividad) y 0 (no hay pico de actividad)"
   ]
  },
  {
   "cell_type": "code",
   "execution_count": 271,
   "id": "b0db74f5-f3de-4e9c-8573-a4663a803843",
   "metadata": {},
   "outputs": [],
   "source": [
    "# Creamos la columna que será la target para el impact_score (daily)\n",
    "\n",
    "# Porcentaje de crecimiento de la actividad\n",
    "df = pre.activity_score_pca(df)\n",
    "df['activity_growth_percentage'] = df['activity_score_pca'].pct_change() * 100\n",
    "df['activity_growth_percentage'] = df['activity_growth_percentage'].fillna(0)\n",
    "\n",
    "df_weekly = pre.activity_score_pca(df_weekly)\n",
    "df_weekly['activity_growth_percentage'] = df_weekly['activity_score_pca'].pct_change() * 100\n",
    "df_weekly['activity_growth_percentage'] = df_weekly['activity_growth_percentage'].fillna(0)"
   ]
  },
  {
   "cell_type": "code",
   "execution_count": 273,
   "id": "4ed05faf-93b0-442b-83c9-e90c6c1c2dc1",
   "metadata": {},
   "outputs": [
    {
     "data": {
      "text/html": [
       "<div>\n",
       "<style scoped>\n",
       "    .dataframe tbody tr th:only-of-type {\n",
       "        vertical-align: middle;\n",
       "    }\n",
       "\n",
       "    .dataframe tbody tr th {\n",
       "        vertical-align: top;\n",
       "    }\n",
       "\n",
       "    .dataframe thead th {\n",
       "        text-align: right;\n",
       "    }\n",
       "</style>\n",
       "<table border=\"1\" class=\"dataframe\">\n",
       "  <thead>\n",
       "    <tr style=\"text-align: right;\">\n",
       "      <th></th>\n",
       "      <th>tot_users</th>\n",
       "      <th>new_users</th>\n",
       "      <th>activity_score_pca</th>\n",
       "      <th>activity_growth_percentage</th>\n",
       "    </tr>\n",
       "  </thead>\n",
       "  <tbody>\n",
       "    <tr>\n",
       "      <th>count</th>\n",
       "      <td>7.010000e+02</td>\n",
       "      <td>7.010000e+02</td>\n",
       "      <td>701.000000</td>\n",
       "      <td>701.000000</td>\n",
       "    </tr>\n",
       "    <tr>\n",
       "      <th>mean</th>\n",
       "      <td>9.325658e+06</td>\n",
       "      <td>4.917347e+04</td>\n",
       "      <td>0.000000</td>\n",
       "      <td>-6.729808</td>\n",
       "    </tr>\n",
       "    <tr>\n",
       "      <th>std</th>\n",
       "      <td>1.054796e+07</td>\n",
       "      <td>1.077515e+05</td>\n",
       "      <td>2.142227</td>\n",
       "      <td>155.693905</td>\n",
       "    </tr>\n",
       "    <tr>\n",
       "      <th>min</th>\n",
       "      <td>3.152200e+04</td>\n",
       "      <td>0.000000e+00</td>\n",
       "      <td>-1.725821</td>\n",
       "      <td>-3739.994787</td>\n",
       "    </tr>\n",
       "    <tr>\n",
       "      <th>25%</th>\n",
       "      <td>1.789001e+06</td>\n",
       "      <td>6.923476e+03</td>\n",
       "      <td>-1.277605</td>\n",
       "      <td>-1.763255</td>\n",
       "    </tr>\n",
       "    <tr>\n",
       "      <th>50%</th>\n",
       "      <td>5.586096e+06</td>\n",
       "      <td>1.455950e+04</td>\n",
       "      <td>-1.134542</td>\n",
       "      <td>0.004092</td>\n",
       "    </tr>\n",
       "    <tr>\n",
       "      <th>75%</th>\n",
       "      <td>1.124966e+07</td>\n",
       "      <td>4.679100e+04</td>\n",
       "      <td>0.786780</td>\n",
       "      <td>1.713578</td>\n",
       "    </tr>\n",
       "    <tr>\n",
       "      <th>max</th>\n",
       "      <td>3.450212e+07</td>\n",
       "      <td>1.014757e+06</td>\n",
       "      <td>8.717566</td>\n",
       "      <td>1145.383310</td>\n",
       "    </tr>\n",
       "  </tbody>\n",
       "</table>\n",
       "</div>"
      ],
      "text/plain": [
       "          tot_users     new_users  activity_score_pca  \\\n",
       "count  7.010000e+02  7.010000e+02          701.000000   \n",
       "mean   9.325658e+06  4.917347e+04            0.000000   \n",
       "std    1.054796e+07  1.077515e+05            2.142227   \n",
       "min    3.152200e+04  0.000000e+00           -1.725821   \n",
       "25%    1.789001e+06  6.923476e+03           -1.277605   \n",
       "50%    5.586096e+06  1.455950e+04           -1.134542   \n",
       "75%    1.124966e+07  4.679100e+04            0.786780   \n",
       "max    3.450212e+07  1.014757e+06            8.717566   \n",
       "\n",
       "       activity_growth_percentage  \n",
       "count                  701.000000  \n",
       "mean                    -6.729808  \n",
       "std                    155.693905  \n",
       "min                  -3739.994787  \n",
       "25%                     -1.763255  \n",
       "50%                      0.004092  \n",
       "75%                      1.713578  \n",
       "max                   1145.383310  "
      ]
     },
     "execution_count": 273,
     "metadata": {},
     "output_type": "execute_result"
    }
   ],
   "source": [
    "df.describe()"
   ]
  },
  {
   "cell_type": "code",
   "execution_count": 275,
   "id": "47bca5c9-61b1-48b3-828a-6afab331a279",
   "metadata": {},
   "outputs": [
    {
     "data": {
      "text/html": [
       "<div>\n",
       "<style scoped>\n",
       "    .dataframe tbody tr th:only-of-type {\n",
       "        vertical-align: middle;\n",
       "    }\n",
       "\n",
       "    .dataframe tbody tr th {\n",
       "        vertical-align: top;\n",
       "    }\n",
       "\n",
       "    .dataframe thead th {\n",
       "        text-align: right;\n",
       "    }\n",
       "</style>\n",
       "<table border=\"1\" class=\"dataframe\">\n",
       "  <thead>\n",
       "    <tr style=\"text-align: right;\">\n",
       "      <th></th>\n",
       "      <th>tot_users</th>\n",
       "      <th>new_users</th>\n",
       "      <th>activity_score_pca</th>\n",
       "      <th>activity_growth_percentage</th>\n",
       "    </tr>\n",
       "  </thead>\n",
       "  <tbody>\n",
       "    <tr>\n",
       "      <th>count</th>\n",
       "      <td>1.010000e+02</td>\n",
       "      <td>1.010000e+02</td>\n",
       "      <td>1.010000e+02</td>\n",
       "      <td>101.000000</td>\n",
       "    </tr>\n",
       "    <tr>\n",
       "      <th>mean</th>\n",
       "      <td>9.683269e+06</td>\n",
       "      <td>3.411242e+05</td>\n",
       "      <td>2.638154e-17</td>\n",
       "      <td>-8.515248</td>\n",
       "    </tr>\n",
       "    <tr>\n",
       "      <th>std</th>\n",
       "      <td>1.090816e+07</td>\n",
       "      <td>6.532057e+05</td>\n",
       "      <td>2.165758e+00</td>\n",
       "      <td>97.030657</td>\n",
       "    </tr>\n",
       "    <tr>\n",
       "      <th>min</th>\n",
       "      <td>4.857800e+04</td>\n",
       "      <td>0.000000e+00</td>\n",
       "      <td>-1.721089e+00</td>\n",
       "      <td>-804.737874</td>\n",
       "    </tr>\n",
       "    <tr>\n",
       "      <th>25%</th>\n",
       "      <td>1.879556e+06</td>\n",
       "      <td>5.889335e+04</td>\n",
       "      <td>-1.303349e+00</td>\n",
       "      <td>-6.299352</td>\n",
       "    </tr>\n",
       "    <tr>\n",
       "      <th>50%</th>\n",
       "      <td>5.606840e+06</td>\n",
       "      <td>1.019165e+05</td>\n",
       "      <td>-1.171124e+00</td>\n",
       "      <td>0.000000</td>\n",
       "    </tr>\n",
       "    <tr>\n",
       "      <th>75%</th>\n",
       "      <td>1.195171e+07</td>\n",
       "      <td>3.396960e+05</td>\n",
       "      <td>1.093075e+00</td>\n",
       "      <td>2.668641</td>\n",
       "    </tr>\n",
       "    <tr>\n",
       "      <th>max</th>\n",
       "      <td>3.450212e+07</td>\n",
       "      <td>4.071047e+06</td>\n",
       "      <td>7.556809e+00</td>\n",
       "      <td>366.422920</td>\n",
       "    </tr>\n",
       "  </tbody>\n",
       "</table>\n",
       "</div>"
      ],
      "text/plain": [
       "          tot_users     new_users  activity_score_pca  \\\n",
       "count  1.010000e+02  1.010000e+02        1.010000e+02   \n",
       "mean   9.683269e+06  3.411242e+05        2.638154e-17   \n",
       "std    1.090816e+07  6.532057e+05        2.165758e+00   \n",
       "min    4.857800e+04  0.000000e+00       -1.721089e+00   \n",
       "25%    1.879556e+06  5.889335e+04       -1.303349e+00   \n",
       "50%    5.606840e+06  1.019165e+05       -1.171124e+00   \n",
       "75%    1.195171e+07  3.396960e+05        1.093075e+00   \n",
       "max    3.450212e+07  4.071047e+06        7.556809e+00   \n",
       "\n",
       "       activity_growth_percentage  \n",
       "count                  101.000000  \n",
       "mean                    -8.515248  \n",
       "std                     97.030657  \n",
       "min                   -804.737874  \n",
       "25%                     -6.299352  \n",
       "50%                      0.000000  \n",
       "75%                      2.668641  \n",
       "max                    366.422920  "
      ]
     },
     "execution_count": 275,
     "metadata": {},
     "output_type": "execute_result"
    }
   ],
   "source": [
    "df_weekly.describe()"
   ]
  },
  {
   "cell_type": "markdown",
   "id": "2aa58385-ee72-4212-b7e0-02d74c0f2b49",
   "metadata": {},
   "source": [
    "**Threshold**\n",
    "- Para el daily, utilizamos el percentil 97% como threshold para los picos de crecimiento.\n",
    "- Para el weekly, utilizamos el percentil de 90%, tratamos de mantener una coherencia entre ambos datasets.\n",
    "- Por encima será 1, por debajo será 0. "
   ]
  },
  {
   "cell_type": "code",
   "execution_count": 277,
   "id": "45bc1fe5-df40-4866-acf4-3736ccc0c66e",
   "metadata": {},
   "outputs": [
    {
     "name": "stdout",
     "output_type": "stream",
     "text": [
      "threshold 10.878291705690257\n"
     ]
    }
   ],
   "source": [
    "# Definimos el threshold para el dataset diario\n",
    "\n",
    "threshold = df['activity_growth_percentage'].quantile(0.93)\n",
    "print('threshold', threshold)\n",
    "\n",
    "# Creamos la nueva columna target binaria\n",
    "df['has_activity_peak'] = (df['activity_growth_percentage'] > threshold).astype(int)"
   ]
  },
  {
   "cell_type": "code",
   "execution_count": null,
   "id": "4a4c05f4-c31d-4091-b1ed-b1454d83b192",
   "metadata": {},
   "outputs": [],
   "source": [
    "\n",
    "# X = matriz de scores de comportamiento\n",
    "X = impact_score_pipeline.fit_transform(X_news)\n",
    "\n",
    "# y = pico de actividad (0 no hay pico, 1 sí hay pico)\n",
    "threshold = df['activity_growth_percentage'].quantile(0.93)\n",
    "df['has_activity_peak'] = (df['activity_growth_percentage'] \n",
    "                           > threshold).astype(int)\n"
   ]
  },
  {
   "cell_type": "code",
   "execution_count": 279,
   "id": "642b4974-8150-4fef-b9c0-e44aa082a624",
   "metadata": {},
   "outputs": [
    {
     "name": "stdout",
     "output_type": "stream",
     "text": [
      "has_activity_peak\n",
      "0    652\n",
      "1     49\n",
      "Name: count, dtype: int64\n",
      "Porcentaje de 1:  0.08682170542635659\n"
     ]
    }
   ],
   "source": [
    "# Evaluamos distribución\n",
    "print(df.has_activity_peak.value_counts())\n",
    "print('Porcentaje de 1: ', 56/645)"
   ]
  },
  {
   "cell_type": "code",
   "execution_count": 281,
   "id": "118fd867-0e0e-4606-86c4-6cb2f617bf70",
   "metadata": {},
   "outputs": [
    {
     "data": {
      "image/png": "[encoded data removed]",
      "text/plain": [
       "<Figure size 1400x600 with 1 Axes>"
      ]
     },
     "metadata": {},
     "output_type": "display_data"
    }
   ],
   "source": [
    "ep.var_per_day(df['has_activity_peak'])"
   ]
  },
  {
   "cell_type": "code",
   "execution_count": 295,
   "id": "14f3546d-e929-4193-bf57-f060d5dd2fe7",
   "metadata": {},
   "outputs": [
    {
     "name": "stdout",
     "output_type": "stream",
     "text": [
      "threshold 8.072892525405063\n"
     ]
    }
   ],
   "source": [
    "# Definimos el threshold para el dataset semanal\n",
    "\n",
    "threshold = df_weekly['activity_growth_percentage'].quantile(0.87)\n",
    "print('threshold', threshold)\n",
    "\n",
    "# Creamos la nueva columna target binaria\n",
    "df_weekly['has_activity_peak'] = (df_weekly['activity_growth_percentage'] > threshold).astype(int)"
   ]
  },
  {
   "cell_type": "code",
   "execution_count": 299,
   "id": "10cee124-7a97-4e82-8b2b-4db5e2d814c9",
   "metadata": {},
   "outputs": [
    {
     "name": "stdout",
     "output_type": "stream",
     "text": [
      "has_activity_peak\n",
      "0    88\n",
      "1    13\n",
      "Name: count, dtype: int64\n",
      "Porcentaje de 1:  0.14772727272727273\n"
     ]
    }
   ],
   "source": [
    "# Evaluamos distribución\n",
    "print(df_weekly.has_activity_peak.value_counts())\n",
    "print('Porcentaje de 1: ', 13/88)"
   ]
  },
  {
   "cell_type": "code",
   "execution_count": 301,
   "id": "00ac503c-e4a2-40a4-961e-69f5c0937d16",
   "metadata": {},
   "outputs": [
    {
     "data": {
      "image/png": "[encoded data removed]",
      "text/plain": [
       "<Figure size 1400x600 with 1 Axes>"
      ]
     },
     "metadata": {},
     "output_type": "display_data"
    }
   ],
   "source": [
    "ep.var_per_day(df_weekly['has_activity_peak'])"
   ]
  },
  {
   "cell_type": "markdown",
   "id": "aefe95f3-98db-48ca-a3ba-10a696c22a1a",
   "metadata": {},
   "source": [
    "**Dataframe de solo texto**"
   ]
  },
  {
   "cell_type": "code",
   "execution_count": 303,
   "id": "01994f6e-0407-4097-b745-1d3520e19cda",
   "metadata": {},
   "outputs": [],
   "source": [
    "# Separamos los datos de texto (daily)\n",
    "df_text = df.drop(columns = df._get_numeric_data().columns)"
   ]
  },
  {
   "cell_type": "code",
   "execution_count": 305,
   "id": "50a4f4c7-e52e-4e66-801b-ccf705169ee8",
   "metadata": {},
   "outputs": [],
   "source": [
    "# Separamos los datos de texto (weekly)\n",
    "df_text_weekly = df_weekly.drop(columns = df_weekly._get_numeric_data().columns)"
   ]
  },
  {
   "cell_type": "markdown",
   "id": "a8655f9c-25a5-4c00-ba5a-06079de08b05",
   "metadata": {},
   "source": [
    "**Train-Test Split**, manteniendo la línea temporal"
   ]
  },
  {
   "cell_type": "code",
   "execution_count": 308,
   "id": "2a24f122-1c39-4f7a-9894-0fe6af5f3da0",
   "metadata": {},
   "outputs": [],
   "source": [
    "### DAILY\n",
    "# Preparamos los datos del train: registros de 2023 y 2024 completos\n",
    "X_train = df_text.loc['2023-05-08':'2024-12-31',:]\n",
    "y_train = df.loc['2023-05-08':'2024-12-31','has_activity_peak']\n",
    "\n",
    "# Preparamos los datos que generarán el score, de 2025\n",
    "X_test = df_text.loc['2025-01-01':,:]\n",
    "y_test = df.loc['2025-01-01':,'has_activity_peak']"
   ]
  },
  {
   "cell_type": "code",
   "execution_count": 310,
   "id": "f18f9f75-a219-4273-8dfd-acf2b172217e",
   "metadata": {},
   "outputs": [],
   "source": [
    "### WEEKLY\n",
    "# Preparamos los datos del train: registros de 2023 y 2024 completos\n",
    "X_train_weekly = df_text_weekly.loc['2023-05-08':'2024-12-31',:]\n",
    "y_train_weekly = df_weekly.loc['2023-05-08':'2024-12-31','has_activity_peak']\n",
    "\n",
    "# Preparamos los datos que generarán el score, de 2025\n",
    "X_test_weekly = df_text_weekly.loc['2025-01-01':,:]\n",
    "y_test_weekly = df_weekly.loc['2025-01-01':,'has_activity_peak']"
   ]
  },
  {
   "cell_type": "code",
   "execution_count": 312,
   "id": "24750fdf-7564-40c7-b3c1-6e253ad478b8",
   "metadata": {},
   "outputs": [
    {
     "data": {
      "text/plain": [
       "DatetimeIndex(['2025-01-05', '2025-01-12', '2025-01-19', '2025-01-26',\n",
       "               '2025-02-02', '2025-02-09', '2025-02-16', '2025-02-23',\n",
       "               '2025-03-02', '2025-03-09', '2025-03-16', '2025-03-23',\n",
       "               '2025-03-30', '2025-04-06', '2025-04-13'],\n",
       "              dtype='datetime64[ns]', name='date', freq='W-SUN')"
      ]
     },
     "execution_count": 312,
     "metadata": {},
     "output_type": "execute_result"
    }
   ],
   "source": [
    "X_test_weekly.index"
   ]
  },
  {
   "cell_type": "code",
   "execution_count": 222,
   "id": "0726ecc7-cbca-4d7c-ad16-8f2e153c6b57",
   "metadata": {},
   "outputs": [
    {
     "name": "stderr",
     "output_type": "stream",
     "text": [
      "Device set to use cpu\n"
     ]
    }
   ],
   "source": [
    "### DAILY\n",
    "# Transformamos los datos de train con el pipeline\n",
    "X_train_is = impact_score_pipeline.fit_transform(X_train)"
   ]
  },
  {
   "cell_type": "code",
   "execution_count": 223,
   "id": "37d2df4b-0f96-4b04-98e5-d59acd9d119c",
   "metadata": {},
   "outputs": [
    {
     "name": "stderr",
     "output_type": "stream",
     "text": [
      "Device set to use cpu\n"
     ]
    }
   ],
   "source": [
    "X_test_is = impact_score_pipeline.fit_transform(X_test)"
   ]
  },
  {
   "cell_type": "code",
   "execution_count": 314,
   "id": "f8f04df7-91a8-4362-bfdb-5134eaa32fca",
   "metadata": {},
   "outputs": [
    {
     "name": "stderr",
     "output_type": "stream",
     "text": [
      "Device set to use cpu\n"
     ]
    }
   ],
   "source": [
    "### WEEKLY\n",
    "# Transformamos los datos de train con el pipeline\n",
    "X_train_is_weekly = impact_score_pipeline.fit_transform(X_train_weekly)"
   ]
  },
  {
   "cell_type": "code",
   "execution_count": 315,
   "id": "292cdab0-f528-4e71-a203-fe9420f3b2e8",
   "metadata": {},
   "outputs": [
    {
     "name": "stderr",
     "output_type": "stream",
     "text": [
      "Device set to use cpu\n"
     ]
    }
   ],
   "source": [
    "X_test_is_weekly = impact_score_pipeline.fit_transform(X_test_weekly)"
   ]
  },
  {
   "cell_type": "code",
   "execution_count": 226,
   "id": "c43c6f9b-1a6f-469e-9ec5-e933e7ad3811",
   "metadata": {},
   "outputs": [
    {
     "name": "stdout",
     "output_type": "stream",
     "text": [
      "Running: sentiment\n"
     ]
    },
    {
     "name": "stderr",
     "output_type": "stream",
     "text": [
      "Device set to use cpu\n"
     ]
    },
    {
     "name": "stdout",
     "output_type": "stream",
     "text": [
      "sentiment output shape: (15, 18)\n",
      "Running: category\n",
      "category output shape: (15, 18)\n",
      "Running: ner\n",
      "ner output shape: (15, 18)\n",
      "Running: novelty\n",
      "novelty output shape: (15, 1)\n"
     ]
    }
   ],
   "source": [
    "# Código para comprobar las salidas de todos los componentes\n",
    "for name, transformer in impact_score_pipeline.transformer_list:\n",
    "    print(f\"Running: {name}\")\n",
    "    output = transformer.fit_transform(X_test_weekly)\n",
    "    print(f\"{name} output shape: {output.shape}\")"
   ]
  },
  {
   "cell_type": "code",
   "execution_count": 227,
   "id": "0fc265b4-9489-46fa-9a51-0df7be48888a",
   "metadata": {},
   "outputs": [
    {
     "name": "stdout",
     "output_type": "stream",
     "text": [
      "type:  <class 'numpy.ndarray'> <class 'numpy.ndarray'>\n",
      "shape:  (604, 55) (97, 55)\n",
      "NaN o Infinitos:  False False\n",
      "NaN o Infinitos:  False False\n"
     ]
    }
   ],
   "source": [
    "#Comprobamos que el resultado es correcto y no tiene errores (daily)\n",
    "print('type: ', type(X_train_is), type(X_test_is))\n",
    "print('shape: ', X_train_is.shape, X_test_is.shape)\n",
    "print('NaN o Infinitos: ', np.any(np.isnan(X_train_is)), np.any(np.isinf(X_train_is)))\n",
    "print('NaN o Infinitos: ', np.any(np.isnan(X_test_is)), np.any(np.isinf(X_test_is)))"
   ]
  },
  {
   "cell_type": "code",
   "execution_count": 316,
   "id": "360e9885-2380-4acc-a767-babad4ab6124",
   "metadata": {},
   "outputs": [
    {
     "name": "stdout",
     "output_type": "stream",
     "text": [
      "type:  <class 'numpy.ndarray'> <class 'numpy.ndarray'>\n",
      "shape:  (86, 55) (15, 55)\n",
      "NaN o Infinitos:  False False\n",
      "NaN o Infinitos:  False False\n"
     ]
    }
   ],
   "source": [
    "#Comprobamos que el resultado es correcto y no tiene errores (weekly)\n",
    "print('type: ', type(X_train_is_weekly), type(X_test_is_weekly))\n",
    "print('shape: ', X_train_is_weekly.shape, X_test_is_weekly.shape)\n",
    "print('NaN o Infinitos: ', np.any(np.isnan(X_train_is_weekly)), np.any(np.isinf(X_train_is_weekly)))\n",
    "print('NaN o Infinitos: ', np.any(np.isnan(X_test_is_weekly)), np.any(np.isinf(X_test_is_weekly)))"
   ]
  }
 ],
 "metadata": {
  "kernelspec": {
   "display_name": "Python [conda env:base] *",
   "language": "python",
   "name": "conda-base-py"
  },
  "language_info": {
   "codemirror_mode": {
    "name": "ipython",
    "version": 3
   },
   "file_extension": ".py",
   "mimetype": "text/x-python",
   "name": "python",
   "nbconvert_exporter": "python",
   "pygments_lexer": "ipython3",
   "version": "3.12.7"
  }
 },
 "nbformat": 4,
 "nbformat_minor": 5
}
